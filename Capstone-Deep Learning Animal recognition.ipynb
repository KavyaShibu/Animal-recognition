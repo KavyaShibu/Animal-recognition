{
 "cells": [
  {
   "cell_type": "code",
   "execution_count": 1,
   "id": "64c90f12",
   "metadata": {},
   "outputs": [],
   "source": [
    "TrainingImagePath=\"C:\\\\Users\\HP\\Desktop\\Tech. sminars\\TS2--Comp.Vision\\Train_data\""
   ]
  },
  {
   "cell_type": "code",
   "execution_count": 2,
   "id": "10b3d180",
   "metadata": {},
   "outputs": [],
   "source": [
    "validationImagePath=\"C:\\\\Users\\HP\\Desktop\\Tech. sminars\\TS2--Comp.Vision\\Test_data\""
   ]
  },
  {
   "cell_type": "code",
   "execution_count": 3,
   "id": "d0c4f66a",
   "metadata": {},
   "outputs": [],
   "source": [
    "from keras.preprocessing.image import ImageDataGenerator"
   ]
  },
  {
   "cell_type": "markdown",
   "id": "2382a0bd",
   "metadata": {},
   "source": [
    "# Creating base model 1 (3 hidden layers)"
   ]
  },
  {
   "cell_type": "code",
   "execution_count": 4,
   "id": "32210bbc",
   "metadata": {},
   "outputs": [],
   "source": [
    "#Base Model\n",
    "\n",
    "train_datagen=ImageDataGenerator(rescale=1./225)\n",
    "test_datagen=ImageDataGenerator(rescale=1./225)"
   ]
  },
  {
   "cell_type": "code",
   "execution_count": 5,
   "id": "06194c02",
   "metadata": {},
   "outputs": [
    {
     "name": "stdout",
     "output_type": "stream",
     "text": [
      "Found 75 images belonging to 5 classes.\n"
     ]
    }
   ],
   "source": [
    "# Generating the Training Data\n",
    "\n",
    "training_set = train_datagen.flow_from_directory(TrainingImagePath,\n",
    "                                                 target_size=(64, 64),\n",
    "                                                 batch_size=20,\n",
    "                                                 class_mode='categorical')"
   ]
  },
  {
   "cell_type": "code",
   "execution_count": 6,
   "id": "cf3afca2",
   "metadata": {},
   "outputs": [
    {
     "name": "stdout",
     "output_type": "stream",
     "text": [
      "Found 25 images belonging to 5 classes.\n"
     ]
    }
   ],
   "source": [
    "# Generating the Validation Data\n",
    "\n",
    "validation_set = test_datagen.flow_from_directory(validationImagePath,\n",
    "                                                  target_size=(64, 64),\n",
    "                                                  batch_size=20,\n",
    "                                                  class_mode='categorical')"
   ]
  },
  {
   "cell_type": "code",
   "execution_count": 7,
   "id": "9a0e775c",
   "metadata": {},
   "outputs": [],
   "source": [
    "#_Create CNN deep learning model\n",
    "from keras.models import Sequential\n",
    "from keras.layers import Convolution2D\n",
    "from keras.layers import MaxPool2D\n",
    "from keras.layers import Flatten\n",
    "from keras.layers import Dense"
   ]
  },
  {
   "cell_type": "code",
   "execution_count": 8,
   "id": "ef4ce543",
   "metadata": {},
   "outputs": [],
   "source": [
    "#Initializing the Convolutional Neural Network\n",
    "\n",
    "classifier=Sequential()"
   ]
  },
  {
   "cell_type": "code",
   "execution_count": 9,
   "id": "aef73ff8",
   "metadata": {},
   "outputs": [],
   "source": [
    "#STEP--1 Convolution\n",
    "# Adding the first layer of CNN\n",
    "# we are using the format (64,64,3) because we are using TensorFlow backend\n",
    "# It means 3 matrix of size (64X64) pixels representing Red,Green and Blue components of pixels"
   ]
  },
  {
   "cell_type": "code",
   "execution_count": 10,
   "id": "18969ca5",
   "metadata": {},
   "outputs": [],
   "source": [
    "classifier.add(Convolution2D(32, kernel_size=(3, 3),\n",
    "                             input_shape=(64,64,3), activation='relu')) "
   ]
  },
  {
   "cell_type": "code",
   "execution_count": 11,
   "id": "e4984ba2",
   "metadata": {},
   "outputs": [],
   "source": [
    "# STEP--2 MAX Pooling'''\n",
    "\n",
    "classifier.add(MaxPool2D(pool_size=(2,2)))"
   ]
  },
  {
   "cell_type": "code",
   "execution_count": 12,
   "id": "63a7ad05",
   "metadata": {},
   "outputs": [],
   "source": [
    "#_ ADDITIONAL LAYER of CONVOLUTION for better accuracy '''\n",
    "\n",
    "classifier.add(Convolution2D(64, kernel_size=(3, 3), activation='relu'))"
   ]
  },
  {
   "cell_type": "code",
   "execution_count": 13,
   "id": "1c3d022c",
   "metadata": {},
   "outputs": [],
   "source": [
    "classifier.add(MaxPool2D(pool_size=(2,2)))"
   ]
  },
  {
   "cell_type": "code",
   "execution_count": 14,
   "id": "85ee34c7",
   "metadata": {},
   "outputs": [],
   "source": [
    "#_ ADDITIONAL LAYER of CONVOLUTION for better accuracy '''\n",
    "\n",
    "classifier.add(Convolution2D(64, kernel_size=(3, 3), activation='relu')) "
   ]
  },
  {
   "cell_type": "code",
   "execution_count": 15,
   "id": "8c3bb3ba",
   "metadata": {},
   "outputs": [],
   "source": [
    "# STEP--3 FLattening'''\n",
    "\n",
    "classifier.add(Flatten()) "
   ]
  },
  {
   "cell_type": "code",
   "execution_count": 16,
   "id": "2e476365",
   "metadata": {},
   "outputs": [
    {
     "name": "stdout",
     "output_type": "stream",
     "text": [
      "Model: \"sequential\"\n",
      "_________________________________________________________________\n",
      " Layer (type)                Output Shape              Param #   \n",
      "=================================================================\n",
      " conv2d (Conv2D)             (None, 62, 62, 32)        896       \n",
      "                                                                 \n",
      " max_pooling2d (MaxPooling2D  (None, 31, 31, 32)       0         \n",
      " )                                                               \n",
      "                                                                 \n",
      " conv2d_1 (Conv2D)           (None, 29, 29, 64)        18496     \n",
      "                                                                 \n",
      " max_pooling2d_1 (MaxPooling  (None, 14, 14, 64)       0         \n",
      " 2D)                                                             \n",
      "                                                                 \n",
      " conv2d_2 (Conv2D)           (None, 12, 12, 64)        36928     \n",
      "                                                                 \n",
      " flatten (Flatten)           (None, 9216)              0         \n",
      "                                                                 \n",
      " dense (Dense)               (None, 64)                589888    \n",
      "                                                                 \n",
      " dense_1 (Dense)             (None, 5)                 325       \n",
      "                                                                 \n",
      "=================================================================\n",
      "Total params: 646,533\n",
      "Trainable params: 646,533\n",
      "Non-trainable params: 0\n",
      "_________________________________________________________________\n"
     ]
    }
   ],
   "source": [
    "# STEP--4 Fully Connected Neural Network'''\n",
    "\n",
    "classifier.add(Dense(64, activation='relu'))\n",
    "classifier.add(Dense(5, activation='softmax'))\n",
    "classifier.summary()"
   ]
  },
  {
   "cell_type": "code",
   "execution_count": 17,
   "id": "dfd11d87",
   "metadata": {},
   "outputs": [],
   "source": [
    "#Compiling the CNN\n",
    "\n",
    "classifier.compile(loss='categorical_crossentropy',\n",
    "                   optimizer='adam', metrics=['accuracy'])"
   ]
  },
  {
   "cell_type": "markdown",
   "id": "b318074a",
   "metadata": {},
   "source": [
    "# Training the base model"
   ]
  },
  {
   "cell_type": "code",
   "execution_count": 18,
   "id": "fc17bc50",
   "metadata": {},
   "outputs": [
    {
     "name": "stderr",
     "output_type": "stream",
     "text": [
      "C:\\Users\\HP\\AppData\\Local\\Temp/ipykernel_4488/174919611.py:2: UserWarning: `Model.fit_generator` is deprecated and will be removed in a future version. Please use `Model.fit`, which supports generators.\n",
      "  history = classifier.fit_generator(training_set, epochs=20,\n"
     ]
    },
    {
     "name": "stdout",
     "output_type": "stream",
     "text": [
      "Epoch 1/20\n",
      "4/4 [==============================] - 151s 42s/step - loss: 1.7824 - accuracy: 0.1867 - val_loss: 1.6126 - val_accuracy: 0.3200\n",
      "Epoch 2/20\n",
      "4/4 [==============================] - 119s 32s/step - loss: 1.5958 - accuracy: 0.3067 - val_loss: 1.6045 - val_accuracy: 0.2800\n",
      "Epoch 3/20\n",
      "4/4 [==============================] - 119s 34s/step - loss: 1.5715 - accuracy: 0.4133 - val_loss: 1.5979 - val_accuracy: 0.3600\n",
      "Epoch 4/20\n",
      "4/4 [==============================] - 135s 37s/step - loss: 1.5115 - accuracy: 0.3733 - val_loss: 1.5984 - val_accuracy: 0.3200\n",
      "Epoch 5/20\n",
      "4/4 [==============================] - 143s 41s/step - loss: 1.4379 - accuracy: 0.4933 - val_loss: 1.6265 - val_accuracy: 0.3200\n",
      "Epoch 6/20\n",
      "4/4 [==============================] - 140s 36s/step - loss: 1.2737 - accuracy: 0.4000 - val_loss: 1.7021 - val_accuracy: 0.4000\n",
      "Epoch 7/20\n",
      "4/4 [==============================] - 129s 34s/step - loss: 1.1215 - accuracy: 0.6000 - val_loss: 1.9323 - val_accuracy: 0.2400\n",
      "Epoch 8/20\n",
      "4/4 [==============================] - 117s 32s/step - loss: 0.9944 - accuracy: 0.5733 - val_loss: 2.0805 - val_accuracy: 0.2400\n",
      "Epoch 9/20\n",
      "4/4 [==============================] - 123s 30s/step - loss: 0.7800 - accuracy: 0.6800 - val_loss: 2.4499 - val_accuracy: 0.1200\n",
      "Epoch 10/20\n",
      "4/4 [==============================] - 121s 30s/step - loss: 0.6163 - accuracy: 0.7600 - val_loss: 2.4314 - val_accuracy: 0.2800\n",
      "Epoch 11/20\n",
      "4/4 [==============================] - 114s 29s/step - loss: 0.5866 - accuracy: 0.7733 - val_loss: 2.8156 - val_accuracy: 0.2000\n",
      "Epoch 12/20\n",
      "4/4 [==============================] - 122s 32s/step - loss: 0.4851 - accuracy: 0.8267 - val_loss: 2.8885 - val_accuracy: 0.2400\n",
      "Epoch 13/20\n",
      "4/4 [==============================] - 113s 32s/step - loss: 0.3947 - accuracy: 0.8533 - val_loss: 3.0037 - val_accuracy: 0.2800\n",
      "Epoch 14/20\n",
      "4/4 [==============================] - 118s 33s/step - loss: 0.2824 - accuracy: 0.8800 - val_loss: 3.5525 - val_accuracy: 0.2000\n",
      "Epoch 15/20\n",
      "4/4 [==============================] - 110s 28s/step - loss: 0.2054 - accuracy: 0.9333 - val_loss: 3.5975 - val_accuracy: 0.2000\n",
      "Epoch 16/20\n",
      "4/4 [==============================] - 112s 30s/step - loss: 0.1253 - accuracy: 0.9733 - val_loss: 3.9437 - val_accuracy: 0.2000\n",
      "Epoch 17/20\n",
      "4/4 [==============================] - 112s 32s/step - loss: 0.1109 - accuracy: 0.9867 - val_loss: 4.1477 - val_accuracy: 0.2400\n",
      "Epoch 18/20\n",
      "4/4 [==============================] - 130s 35s/step - loss: 0.0722 - accuracy: 1.0000 - val_loss: 4.8307 - val_accuracy: 0.2800\n",
      "Epoch 19/20\n",
      "4/4 [==============================] - 148s 41s/step - loss: 0.0620 - accuracy: 0.9867 - val_loss: 4.8494 - val_accuracy: 0.2800\n",
      "Epoch 20/20\n",
      "4/4 [==============================] - 154s 43s/step - loss: 0.0327 - accuracy: 1.0000 - val_loss: 4.4413 - val_accuracy: 0.2800\n"
     ]
    }
   ],
   "source": [
    "# Starting the model training\n",
    "history = classifier.fit_generator(training_set, epochs=20, \n",
    "                         validation_data=validation_set)"
   ]
  },
  {
   "cell_type": "code",
   "execution_count": 19,
   "id": "0cf77904",
   "metadata": {},
   "outputs": [],
   "source": [
    "#Displaying curves of loss and accuracy during training\n",
    "\n",
    "import matplotlib.pyplot as plt\n",
    "acc = history.history['accuracy']\n",
    "val_acc = history.history['val_accuracy']\n",
    "loss = history.history['loss']\n",
    "val_loss = history.history['val_loss']"
   ]
  },
  {
   "cell_type": "code",
   "execution_count": 20,
   "id": "ec135574",
   "metadata": {},
   "outputs": [],
   "source": [
    "epochs = range(1, len(acc) + 1)"
   ]
  },
  {
   "cell_type": "code",
   "execution_count": 21,
   "id": "21f21eed",
   "metadata": {},
   "outputs": [
    {
     "data": {
      "text/plain": [
       "<Figure size 432x288 with 0 Axes>"
      ]
     },
     "execution_count": 21,
     "metadata": {},
     "output_type": "execute_result"
    },
    {
     "data": {
      "image/png": "[encoded data removed]",
      "text/plain": [
       "<Figure size 432x288 with 1 Axes>"
      ]
     },
     "metadata": {
      "needs_background": "light"
     },
     "output_type": "display_data"
    },
    {
     "data": {
      "text/plain": [
       "<Figure size 432x288 with 0 Axes>"
      ]
     },
     "metadata": {},
     "output_type": "display_data"
    }
   ],
   "source": [
    "plt.plot(epochs, acc, 'bo',label='Training acc')\n",
    "plt.plot(epochs, val_acc, 'r', label='Validation acc')\n",
    "plt.title('Training and validation accuracy')\n",
    "plt.legend()\n",
    "plt.figure()"
   ]
  },
  {
   "cell_type": "code",
   "execution_count": 22,
   "id": "8a2601de",
   "metadata": {},
   "outputs": [
    {
     "data": {
      "image/png": "[encoded data removed]",
      "text/plain": [
       "<Figure size 432x288 with 1 Axes>"
      ]
     },
     "metadata": {
      "needs_background": "light"
     },
     "output_type": "display_data"
    }
   ],
   "source": [
    "plt.plot(epochs, loss, 'bo', label='Training loss')\n",
    "plt.plot(epochs, val_loss, 'r', label='Validation loss')\n",
    "plt.title('Training and validation loss')\n",
    "plt.legend()\n",
    "plt.show()"
   ]
  },
  {
   "cell_type": "markdown",
   "id": "08377566",
   "metadata": {},
   "source": [
    "# Creating model 2(4 hidden layers)"
   ]
  },
  {
   "cell_type": "code",
   "execution_count": 23,
   "id": "596f613c",
   "metadata": {},
   "outputs": [],
   "source": [
    "# Specifying the location of images \n",
    "\n",
    "TrainingImagePath=\"C:\\\\Users\\HP\\Desktop\\Tech. sminars\\TS2--Comp.Vision\\Train_data\"\n",
    "validationImagePath=\"C:\\\\Users\\HP\\Desktop\\Tech. sminars\\TS2--Comp.Vision\\Test_data\""
   ]
  },
  {
   "cell_type": "code",
   "execution_count": 24,
   "id": "c9a47bf2",
   "metadata": {},
   "outputs": [],
   "source": [
    "from keras.preprocessing.image import ImageDataGenerator"
   ]
  },
  {
   "cell_type": "code",
   "execution_count": 25,
   "id": "6911d56c",
   "metadata": {},
   "outputs": [],
   "source": [
    "#Adding parameters in the ImageDatagenerator(creating more images using parameters)\n",
    "\n",
    "train_datagen = ImageDataGenerator(rescale=1./225, shear_range=0.5, \n",
    "                                   zoom_range=0.5, width_shift_range=0.2,\n",
    "                                   height_shift_range=0.2)"
   ]
  },
  {
   "cell_type": "code",
   "execution_count": 26,
   "id": "c8bd85bc",
   "metadata": {},
   "outputs": [],
   "source": [
    "# No transformations are done on the testing images\n",
    "\n",
    "test_datagen = ImageDataGenerator(rescale=1./225)"
   ]
  },
  {
   "cell_type": "code",
   "execution_count": 27,
   "id": "556e162c",
   "metadata": {},
   "outputs": [
    {
     "name": "stdout",
     "output_type": "stream",
     "text": [
      "Found 75 images belonging to 5 classes.\n"
     ]
    }
   ],
   "source": [
    "# Generating the Training Data\n",
    "\n",
    "training_set = train_datagen.flow_from_directory(TrainingImagePath,\n",
    "                                                 target_size=(64, 64),\n",
    "                                                 batch_size=20,\n",
    "                                                 class_mode='categorical')"
   ]
  },
  {
   "cell_type": "code",
   "execution_count": 28,
   "id": "312f11fe",
   "metadata": {},
   "outputs": [
    {
     "name": "stdout",
     "output_type": "stream",
     "text": [
      "Found 25 images belonging to 5 classes.\n"
     ]
    }
   ],
   "source": [
    "# Generating the Validation Data\n",
    "\n",
    "validation_set = test_datagen.flow_from_directory(validationImagePath,\n",
    "                                                  target_size=(64, 64),\n",
    "                                                  batch_size=20,\n",
    "                                                  class_mode='categorical')"
   ]
  },
  {
   "cell_type": "code",
   "execution_count": 29,
   "id": "8274a408",
   "metadata": {},
   "outputs": [],
   "source": [
    "#__Create CNN deep learning model\n",
    "from keras.models import Sequential\n",
    "from keras.layers import Convolution2D\n",
    "from keras.layers import MaxPool2D\n",
    "from keras.layers import Flatten\n",
    "from keras.layers import Dense"
   ]
  },
  {
   "cell_type": "code",
   "execution_count": 30,
   "id": "49181703",
   "metadata": {},
   "outputs": [],
   "source": [
    "#Initializing the Convolutional Neural Network\n",
    "\n",
    "classifier=Sequential()"
   ]
  },
  {
   "cell_type": "code",
   "execution_count": 31,
   "id": "9510a99b",
   "metadata": {},
   "outputs": [],
   "source": [
    "#Convolution\n",
    "classifier.add(Convolution2D(32, kernel_size=(3,3),\n",
    "                            input_shape=(64,64,3), activation='relu'))"
   ]
  },
  {
   "cell_type": "code",
   "execution_count": 32,
   "id": "1346ac46",
   "metadata": {},
   "outputs": [],
   "source": [
    "#Max polling\n",
    "classifier.add(MaxPool2D(pool_size=(2,2)))"
   ]
  },
  {
   "cell_type": "code",
   "execution_count": 33,
   "id": "4c506d8b",
   "metadata": {},
   "outputs": [],
   "source": [
    "#ADDITIONAL LAYER of CONVOLUTION for better accuracy \n",
    "classifier.add(Convolution2D(64, kernel_size=(3, 3), activation='relu'))"
   ]
  },
  {
   "cell_type": "code",
   "execution_count": 34,
   "id": "4444e22e",
   "metadata": {},
   "outputs": [],
   "source": [
    "classifier.add(MaxPool2D(pool_size=(2,2)))"
   ]
  },
  {
   "cell_type": "code",
   "execution_count": 35,
   "id": "5ff7d278",
   "metadata": {},
   "outputs": [],
   "source": [
    "#ADDITIONAL LAYER of CONVOLUTION for better accuracy \n",
    "classifier.add(Convolution2D(64, kernel_size=(3, 3), activation='relu'))"
   ]
  },
  {
   "cell_type": "code",
   "execution_count": 36,
   "id": "c984c7eb",
   "metadata": {},
   "outputs": [],
   "source": [
    "#Flattening\n",
    "classifier.add(Flatten())"
   ]
  },
  {
   "cell_type": "code",
   "execution_count": 37,
   "id": "ca81cdfa",
   "metadata": {},
   "outputs": [],
   "source": [
    "#Fully Connected Neural Network\n",
    "classifier.add(Dense(64, activation='relu')) # hidden layer"
   ]
  },
  {
   "cell_type": "code",
   "execution_count": 38,
   "id": "2bb25eed",
   "metadata": {},
   "outputs": [],
   "source": [
    "classifier.add(Dense(5, activation='softmax')) # output layer"
   ]
  },
  {
   "cell_type": "code",
   "execution_count": 39,
   "id": "b0c6cb13",
   "metadata": {},
   "outputs": [
    {
     "name": "stdout",
     "output_type": "stream",
     "text": [
      "Model: \"sequential_1\"\n",
      "_________________________________________________________________\n",
      " Layer (type)                Output Shape              Param #   \n",
      "=================================================================\n",
      " conv2d_3 (Conv2D)           (None, 62, 62, 32)        896       \n",
      "                                                                 \n",
      " max_pooling2d_2 (MaxPooling  (None, 31, 31, 32)       0         \n",
      " 2D)                                                             \n",
      "                                                                 \n",
      " conv2d_4 (Conv2D)           (None, 29, 29, 64)        18496     \n",
      "                                                                 \n",
      " max_pooling2d_3 (MaxPooling  (None, 14, 14, 64)       0         \n",
      " 2D)                                                             \n",
      "                                                                 \n",
      " conv2d_5 (Conv2D)           (None, 12, 12, 64)        36928     \n",
      "                                                                 \n",
      " flatten_1 (Flatten)         (None, 9216)              0         \n",
      "                                                                 \n",
      " dense_2 (Dense)             (None, 64)                589888    \n",
      "                                                                 \n",
      " dense_3 (Dense)             (None, 5)                 325       \n",
      "                                                                 \n",
      "=================================================================\n",
      "Total params: 646,533\n",
      "Trainable params: 646,533\n",
      "Non-trainable params: 0\n",
      "_________________________________________________________________\n"
     ]
    }
   ],
   "source": [
    "classifier.summary()"
   ]
  },
  {
   "cell_type": "code",
   "execution_count": 40,
   "id": "6b3da362",
   "metadata": {},
   "outputs": [],
   "source": [
    "#Compiler\n",
    "classifier.compile(loss='categorical_crossentropy', \n",
    "                   optimizer = 'adam', metrics=[\"accuracy\"])"
   ]
  },
  {
   "cell_type": "markdown",
   "id": "709a01de",
   "metadata": {},
   "source": [
    "# Training 2nd model"
   ]
  },
  {
   "cell_type": "code",
   "execution_count": 42,
   "id": "65651c2a",
   "metadata": {},
   "outputs": [
    {
     "name": "stderr",
     "output_type": "stream",
     "text": [
      "C:\\Users\\HP\\AppData\\Local\\Temp/ipykernel_4488/2176159273.py:2: UserWarning: `Model.fit_generator` is deprecated and will be removed in a future version. Please use `Model.fit`, which supports generators.\n",
      "  history = classifier.fit_generator(training_set, epochs=100,\n"
     ]
    },
    {
     "name": "stdout",
     "output_type": "stream",
     "text": [
      "Epoch 1/100\n",
      "4/4 [==============================] - 270s 76s/step - loss: 1.6808 - accuracy: 0.1867 - val_loss: 1.6112 - val_accuracy: 0.1600\n",
      "Epoch 2/100\n",
      "4/4 [==============================] - 236s 61s/step - loss: 1.6152 - accuracy: 0.2133 - val_loss: 1.6127 - val_accuracy: 0.2400\n",
      "Epoch 3/100\n",
      "4/4 [==============================] - 258s 67s/step - loss: 1.6009 - accuracy: 0.3067 - val_loss: 1.6108 - val_accuracy: 0.1600\n",
      "Epoch 4/100\n",
      "4/4 [==============================] - 219s 61s/step - loss: 1.5950 - accuracy: 0.2533 - val_loss: 1.6082 - val_accuracy: 0.2400\n",
      "Epoch 5/100\n",
      "4/4 [==============================] - 195s 54s/step - loss: 1.5666 - accuracy: 0.3600 - val_loss: 1.5946 - val_accuracy: 0.4000\n",
      "Epoch 6/100\n",
      "4/4 [==============================] - 134s 33s/step - loss: 1.5224 - accuracy: 0.4133 - val_loss: 1.5882 - val_accuracy: 0.3600\n",
      "Epoch 7/100\n",
      "4/4 [==============================] - 128s 33s/step - loss: 1.4700 - accuracy: 0.4000 - val_loss: 1.6219 - val_accuracy: 0.3200\n",
      "Epoch 8/100\n",
      "4/4 [==============================] - 131s 33s/step - loss: 1.3963 - accuracy: 0.4400 - val_loss: 1.6608 - val_accuracy: 0.3200\n",
      "Epoch 9/100\n",
      "4/4 [==============================] - 127s 35s/step - loss: 1.3809 - accuracy: 0.4000 - val_loss: 1.6618 - val_accuracy: 0.2800\n",
      "Epoch 10/100\n",
      "4/4 [==============================] - 126s 33s/step - loss: 1.3985 - accuracy: 0.3867 - val_loss: 1.6302 - val_accuracy: 0.2800\n",
      "Epoch 11/100\n",
      "4/4 [==============================] - 126s 34s/step - loss: 1.4388 - accuracy: 0.3867 - val_loss: 1.6575 - val_accuracy: 0.2400\n",
      "Epoch 12/100\n",
      "4/4 [==============================] - 129s 33s/step - loss: 1.3307 - accuracy: 0.4400 - val_loss: 1.5798 - val_accuracy: 0.3600\n",
      "Epoch 13/100\n",
      "4/4 [==============================] - 129s 36s/step - loss: 1.3398 - accuracy: 0.4267 - val_loss: 1.6601 - val_accuracy: 0.3600\n",
      "Epoch 14/100\n",
      "4/4 [==============================] - 126s 34s/step - loss: 1.3049 - accuracy: 0.4533 - val_loss: 1.8928 - val_accuracy: 0.2800\n",
      "Epoch 15/100\n",
      "4/4 [==============================] - 125s 33s/step - loss: 1.2808 - accuracy: 0.4267 - val_loss: 1.7853 - val_accuracy: 0.2800\n",
      "Epoch 16/100\n",
      "4/4 [==============================] - 126s 33s/step - loss: 1.2254 - accuracy: 0.4667 - val_loss: 1.7549 - val_accuracy: 0.2400\n",
      "Epoch 17/100\n",
      "4/4 [==============================] - 131s 35s/step - loss: 1.2221 - accuracy: 0.4533 - val_loss: 1.8926 - val_accuracy: 0.2400\n",
      "Epoch 18/100\n",
      "4/4 [==============================] - 126s 35s/step - loss: 1.2480 - accuracy: 0.5067 - val_loss: 2.0316 - val_accuracy: 0.2800\n",
      "Epoch 19/100\n",
      "4/4 [==============================] - 126s 36s/step - loss: 1.1977 - accuracy: 0.5200 - val_loss: 1.9102 - val_accuracy: 0.2000\n",
      "Epoch 20/100\n",
      "4/4 [==============================] - 126s 32s/step - loss: 1.1717 - accuracy: 0.5200 - val_loss: 1.9097 - val_accuracy: 0.2800\n",
      "Epoch 21/100\n",
      "4/4 [==============================] - 126s 36s/step - loss: 1.2600 - accuracy: 0.4933 - val_loss: 1.9970 - val_accuracy: 0.2000\n",
      "Epoch 22/100\n",
      "4/4 [==============================] - 131s 34s/step - loss: 1.1490 - accuracy: 0.5333 - val_loss: 2.0387 - val_accuracy: 0.2000\n",
      "Epoch 23/100\n",
      "4/4 [==============================] - 127s 35s/step - loss: 1.2002 - accuracy: 0.4667 - val_loss: 2.0446 - val_accuracy: 0.2000\n",
      "Epoch 24/100\n",
      "4/4 [==============================] - 128s 34s/step - loss: 1.1821 - accuracy: 0.4533 - val_loss: 2.1785 - val_accuracy: 0.1600\n",
      "Epoch 25/100\n",
      "4/4 [==============================] - 127s 36s/step - loss: 1.1898 - accuracy: 0.5067 - val_loss: 1.9209 - val_accuracy: 0.2800\n",
      "Epoch 26/100\n",
      "4/4 [==============================] - 189s 54s/step - loss: 1.1117 - accuracy: 0.5067 - val_loss: 2.3328 - val_accuracy: 0.1600\n",
      "Epoch 27/100\n",
      "4/4 [==============================] - 120s 30s/step - loss: 1.0757 - accuracy: 0.5867 - val_loss: 2.3016 - val_accuracy: 0.1600\n",
      "Epoch 28/100\n",
      "4/4 [==============================] - 168s 48s/step - loss: 1.0663 - accuracy: 0.5733 - val_loss: 2.8518 - val_accuracy: 0.1600\n",
      "Epoch 29/100\n",
      "4/4 [==============================] - 189s 48s/step - loss: 0.9802 - accuracy: 0.6533 - val_loss: 3.4314 - val_accuracy: 0.1600\n",
      "Epoch 30/100\n",
      "4/4 [==============================] - 174s 47s/step - loss: 1.0603 - accuracy: 0.5467 - val_loss: 2.8378 - val_accuracy: 0.2400\n",
      "Epoch 31/100\n",
      "4/4 [==============================] - 157s 42s/step - loss: 1.1158 - accuracy: 0.4933 - val_loss: 2.8705 - val_accuracy: 0.2000\n",
      "Epoch 32/100\n",
      "4/4 [==============================] - 174s 48s/step - loss: 0.9995 - accuracy: 0.6000 - val_loss: 2.9446 - val_accuracy: 0.1200\n",
      "Epoch 33/100\n",
      "4/4 [==============================] - 227s 62s/step - loss: 1.0745 - accuracy: 0.5467 - val_loss: 2.4073 - val_accuracy: 0.2400\n",
      "Epoch 34/100\n",
      "4/4 [==============================] - 268s 75s/step - loss: 0.9890 - accuracy: 0.6133 - val_loss: 2.5452 - val_accuracy: 0.2400\n",
      "Epoch 35/100\n",
      "4/4 [==============================] - 334s 74s/step - loss: 0.9339 - accuracy: 0.6000 - val_loss: 3.0084 - val_accuracy: 0.1600\n",
      "Epoch 36/100\n",
      "4/4 [==============================] - 256s 70s/step - loss: 0.9915 - accuracy: 0.6000 - val_loss: 3.0208 - val_accuracy: 0.2400\n",
      "Epoch 37/100\n",
      "4/4 [==============================] - 160s 41s/step - loss: 0.8947 - accuracy: 0.6533 - val_loss: 3.4795 - val_accuracy: 0.2400\n",
      "Epoch 38/100\n",
      "4/4 [==============================] - 137s 38s/step - loss: 1.0139 - accuracy: 0.5333 - val_loss: 2.6799 - val_accuracy: 0.2400\n",
      "Epoch 39/100\n",
      "4/4 [==============================] - 152s 41s/step - loss: 0.9705 - accuracy: 0.6000 - val_loss: 3.8294 - val_accuracy: 0.1600\n",
      "Epoch 40/100\n",
      "4/4 [==============================] - 170s 46s/step - loss: 0.9221 - accuracy: 0.6133 - val_loss: 3.0310 - val_accuracy: 0.1600\n",
      "Epoch 41/100\n",
      "4/4 [==============================] - 163s 43s/step - loss: 0.9387 - accuracy: 0.6667 - val_loss: 3.0402 - val_accuracy: 0.2000\n",
      "Epoch 42/100\n",
      "4/4 [==============================] - 159s 42s/step - loss: 0.8542 - accuracy: 0.6667 - val_loss: 4.3595 - val_accuracy: 0.2000\n",
      "Epoch 43/100\n",
      "4/4 [==============================] - 155s 41s/step - loss: 0.9582 - accuracy: 0.6667 - val_loss: 3.3466 - val_accuracy: 0.1200\n",
      "Epoch 44/100\n",
      "4/4 [==============================] - 141s 41s/step - loss: 0.9701 - accuracy: 0.6400 - val_loss: 3.7590 - val_accuracy: 0.1600\n",
      "Epoch 45/100\n",
      "4/4 [==============================] - 137s 37s/step - loss: 0.9343 - accuracy: 0.6667 - val_loss: 3.4939 - val_accuracy: 0.1600\n",
      "Epoch 46/100\n",
      "4/4 [==============================] - 167s 45s/step - loss: 0.8627 - accuracy: 0.6800 - val_loss: 3.1283 - val_accuracy: 0.1200\n",
      "Epoch 47/100\n",
      "4/4 [==============================] - 159s 44s/step - loss: 1.0626 - accuracy: 0.6000 - val_loss: 3.4444 - val_accuracy: 0.1600\n",
      "Epoch 48/100\n",
      "4/4 [==============================] - 154s 39s/step - loss: 0.8570 - accuracy: 0.6800 - val_loss: 4.3559 - val_accuracy: 0.0800\n",
      "Epoch 49/100\n",
      "4/4 [==============================] - 155s 41s/step - loss: 0.8969 - accuracy: 0.6800 - val_loss: 3.9674 - val_accuracy: 0.0800\n",
      "Epoch 50/100\n",
      "4/4 [==============================] - 164s 44s/step - loss: 0.7956 - accuracy: 0.7067 - val_loss: 5.3956 - val_accuracy: 0.1600\n",
      "Epoch 51/100\n",
      "4/4 [==============================] - 154s 40s/step - loss: 0.7934 - accuracy: 0.7333 - val_loss: 3.3145 - val_accuracy: 0.1600\n",
      "Epoch 52/100\n",
      "4/4 [==============================] - 152s 42s/step - loss: 0.8081 - accuracy: 0.6800 - val_loss: 3.4978 - val_accuracy: 0.1600\n",
      "Epoch 53/100\n",
      "4/4 [==============================] - 153s 41s/step - loss: 0.9548 - accuracy: 0.6000 - val_loss: 4.2652 - val_accuracy: 0.0800\n",
      "Epoch 54/100\n",
      "4/4 [==============================] - 160s 45s/step - loss: 0.9182 - accuracy: 0.6000 - val_loss: 3.0325 - val_accuracy: 0.0800\n",
      "Epoch 55/100\n",
      "4/4 [==============================] - 151s 41s/step - loss: 0.7368 - accuracy: 0.6933 - val_loss: 3.3333 - val_accuracy: 0.0800\n",
      "Epoch 56/100\n",
      "4/4 [==============================] - 150s 40s/step - loss: 0.6972 - accuracy: 0.7600 - val_loss: 4.0987 - val_accuracy: 0.1600\n",
      "Epoch 57/100\n",
      "4/4 [==============================] - 151s 40s/step - loss: 0.7757 - accuracy: 0.6800 - val_loss: 4.1952 - val_accuracy: 0.1200\n",
      "Epoch 58/100\n",
      "4/4 [==============================] - 158s 45s/step - loss: 0.7087 - accuracy: 0.7200 - val_loss: 4.1468 - val_accuracy: 0.0800\n",
      "Epoch 59/100\n",
      "4/4 [==============================] - 153s 41s/step - loss: 0.7569 - accuracy: 0.6933 - val_loss: 3.8538 - val_accuracy: 0.1600\n",
      "Epoch 60/100\n",
      "4/4 [==============================] - 165s 45s/step - loss: 0.6750 - accuracy: 0.6933 - val_loss: 3.5132 - val_accuracy: 0.1200\n",
      "Epoch 61/100\n",
      "4/4 [==============================] - 208s 60s/step - loss: 0.7169 - accuracy: 0.7333 - val_loss: 4.6588 - val_accuracy: 0.1200\n",
      "Epoch 62/100\n",
      "4/4 [==============================] - 246s 65s/step - loss: 0.7653 - accuracy: 0.6933 - val_loss: 3.3128 - val_accuracy: 0.2400\n",
      "Epoch 63/100\n",
      "4/4 [==============================] - 505s 152s/step - loss: 0.7691 - accuracy: 0.6933 - val_loss: 4.4388 - val_accuracy: 0.1600\n",
      "Epoch 64/100\n",
      "4/4 [==============================] - 305s 69s/step - loss: 0.6654 - accuracy: 0.7200 - val_loss: 3.7142 - val_accuracy: 0.1200\n",
      "Epoch 65/100\n",
      "4/4 [==============================] - 205s 60s/step - loss: 0.5875 - accuracy: 0.7600 - val_loss: 3.3312 - val_accuracy: 0.2000\n",
      "Epoch 66/100\n",
      "4/4 [==============================] - 227s 62s/step - loss: 0.8254 - accuracy: 0.6000 - val_loss: 5.6366 - val_accuracy: 0.1600\n",
      "Epoch 67/100\n",
      "4/4 [==============================] - 189s 46s/step - loss: 0.7101 - accuracy: 0.7333 - val_loss: 3.7399 - val_accuracy: 0.1200\n",
      "Epoch 68/100\n",
      "4/4 [==============================] - 143s 40s/step - loss: 0.7935 - accuracy: 0.6000 - val_loss: 3.1275 - val_accuracy: 0.1600\n",
      "Epoch 69/100\n",
      "4/4 [==============================] - 134s 36s/step - loss: 0.7435 - accuracy: 0.6933 - val_loss: 3.9038 - val_accuracy: 0.1600\n",
      "Epoch 70/100\n",
      "4/4 [==============================] - 158s 44s/step - loss: 0.5667 - accuracy: 0.8400 - val_loss: 3.6459 - val_accuracy: 0.1200\n",
      "Epoch 71/100\n",
      "4/4 [==============================] - 153s 40s/step - loss: 0.5665 - accuracy: 0.7600 - val_loss: 3.6760 - val_accuracy: 0.1200\n",
      "Epoch 72/100\n",
      "4/4 [==============================] - 159s 47s/step - loss: 0.6882 - accuracy: 0.7200 - val_loss: 4.0568 - val_accuracy: 0.2000\n",
      "Epoch 73/100\n",
      "4/4 [==============================] - 150s 42s/step - loss: 0.6555 - accuracy: 0.7333 - val_loss: 4.6104 - val_accuracy: 0.2000\n",
      "Epoch 74/100\n",
      "4/4 [==============================] - 150s 39s/step - loss: 0.6711 - accuracy: 0.7333 - val_loss: 5.7286 - val_accuracy: 0.2000\n",
      "Epoch 75/100\n",
      "4/4 [==============================] - 149s 41s/step - loss: 0.7900 - accuracy: 0.6800 - val_loss: 4.2762 - val_accuracy: 0.1200\n",
      "Epoch 76/100\n",
      "4/4 [==============================] - 155s 42s/step - loss: 0.5785 - accuracy: 0.8133 - val_loss: 5.0014 - val_accuracy: 0.0800\n",
      "Epoch 77/100\n",
      "4/4 [==============================] - 150s 42s/step - loss: 0.7373 - accuracy: 0.7600 - val_loss: 3.3600 - val_accuracy: 0.2400\n",
      "Epoch 78/100\n",
      "4/4 [==============================] - 151s 39s/step - loss: 0.6867 - accuracy: 0.7867 - val_loss: 3.4743 - val_accuracy: 0.2000\n",
      "Epoch 79/100\n",
      "4/4 [==============================] - 149s 40s/step - loss: 0.6211 - accuracy: 0.7867 - val_loss: 4.2261 - val_accuracy: 0.2400\n",
      "Epoch 80/100\n",
      "4/4 [==============================] - 157s 41s/step - loss: 0.5577 - accuracy: 0.7867 - val_loss: 4.7508 - val_accuracy: 0.2400\n",
      "Epoch 81/100\n",
      "4/4 [==============================] - 150s 42s/step - loss: 0.7203 - accuracy: 0.7333 - val_loss: 4.8042 - val_accuracy: 0.2000\n",
      "Epoch 82/100\n",
      "4/4 [==============================] - 150s 40s/step - loss: 0.4792 - accuracy: 0.8400 - val_loss: 4.0597 - val_accuracy: 0.1600\n",
      "Epoch 83/100\n",
      "4/4 [==============================] - 149s 38s/step - loss: 0.5645 - accuracy: 0.8133 - val_loss: 4.8610 - val_accuracy: 0.3200\n",
      "Epoch 84/100\n",
      "4/4 [==============================] - 160s 43s/step - loss: 0.4920 - accuracy: 0.8400 - val_loss: 4.6344 - val_accuracy: 0.2000\n",
      "Epoch 85/100\n",
      "4/4 [==============================] - 152s 40s/step - loss: 0.5197 - accuracy: 0.8400 - val_loss: 4.4347 - val_accuracy: 0.1600\n",
      "Epoch 86/100\n",
      "4/4 [==============================] - 154s 41s/step - loss: 0.7347 - accuracy: 0.6933 - val_loss: 4.4295 - val_accuracy: 0.2000\n",
      "Epoch 87/100\n",
      "4/4 [==============================] - 158s 43s/step - loss: 0.6291 - accuracy: 0.7600 - val_loss: 4.3160 - val_accuracy: 0.2000\n",
      "Epoch 88/100\n",
      "4/4 [==============================] - 165s 45s/step - loss: 0.7198 - accuracy: 0.6933 - val_loss: 4.9943 - val_accuracy: 0.1600\n",
      "Epoch 89/100\n",
      "4/4 [==============================] - 151s 40s/step - loss: 0.5061 - accuracy: 0.8000 - val_loss: 5.0943 - val_accuracy: 0.1600\n",
      "Epoch 90/100\n",
      "4/4 [==============================] - 152s 40s/step - loss: 0.6549 - accuracy: 0.7467 - val_loss: 5.0280 - val_accuracy: 0.1200\n",
      "Epoch 91/100\n",
      "4/4 [==============================] - 157s 43s/step - loss: 0.4913 - accuracy: 0.8267 - val_loss: 5.1852 - val_accuracy: 0.2000\n",
      "Epoch 92/100\n",
      "4/4 [==============================] - 195s 58s/step - loss: 0.5835 - accuracy: 0.7600 - val_loss: 3.8983 - val_accuracy: 0.2800\n",
      "Epoch 93/100\n",
      "4/4 [==============================] - 258s 74s/step - loss: 0.7534 - accuracy: 0.6933 - val_loss: 4.4640 - val_accuracy: 0.1600\n",
      "Epoch 94/100\n",
      "4/4 [==============================] - 211s 60s/step - loss: 0.5088 - accuracy: 0.7867 - val_loss: 4.3808 - val_accuracy: 0.2000\n",
      "Epoch 95/100\n",
      "4/4 [==============================] - 198s 57s/step - loss: 0.4249 - accuracy: 0.8533 - val_loss: 4.6660 - val_accuracy: 0.1600\n",
      "Epoch 96/100\n",
      "4/4 [==============================] - 182s 52s/step - loss: 0.7066 - accuracy: 0.7733 - val_loss: 4.9322 - val_accuracy: 0.1600\n",
      "Epoch 97/100\n",
      "4/4 [==============================] - 208s 57s/step - loss: 0.4949 - accuracy: 0.7867 - val_loss: 4.8687 - val_accuracy: 0.2000\n",
      "Epoch 98/100\n",
      "4/4 [==============================] - 156s 39s/step - loss: 0.4739 - accuracy: 0.8133 - val_loss: 4.9505 - val_accuracy: 0.2400\n",
      "Epoch 99/100\n",
      "4/4 [==============================] - 129s 34s/step - loss: 0.4412 - accuracy: 0.7867 - val_loss: 5.0611 - val_accuracy: 0.1600\n",
      "Epoch 100/100\n",
      "4/4 [==============================] - 128s 34s/step - loss: 0.4478 - accuracy: 0.8267 - val_loss: 4.3234 - val_accuracy: 0.2000\n"
     ]
    }
   ],
   "source": [
    "# Starting the model training\n",
    "\n",
    "history = classifier.fit_generator(training_set, epochs=100, \n",
    "                         validation_data=validation_set)"
   ]
  },
  {
   "cell_type": "code",
   "execution_count": 43,
   "id": "6467496d",
   "metadata": {},
   "outputs": [],
   "source": [
    "#Displaying curves of loss and accuracy during training\n",
    "import matplotlib.pyplot as plt\n",
    "acc = history.history['accuracy']\n",
    "val_acc = history.history['val_accuracy']\n",
    "loss = history.history['loss']\n",
    "val_loss = history.history['val_loss']"
   ]
  },
  {
   "cell_type": "code",
   "execution_count": 44,
   "id": "0ec1f139",
   "metadata": {},
   "outputs": [],
   "source": [
    "epochs = range(1, len(acc) + 1)"
   ]
  },
  {
   "cell_type": "code",
   "execution_count": 45,
   "id": "644e8b1b",
   "metadata": {},
   "outputs": [
    {
     "data": {
      "text/plain": [
       "<Figure size 432x288 with 0 Axes>"
      ]
     },
     "execution_count": 45,
     "metadata": {},
     "output_type": "execute_result"
    },
    {
     "data": {
      "image/png": "[encoded data removed]",
      "text/plain": [
       "<Figure size 432x288 with 1 Axes>"
      ]
     },
     "metadata": {
      "needs_background": "light"
     },
     "output_type": "display_data"
    },
    {
     "data": {
      "text/plain": [
       "<Figure size 432x288 with 0 Axes>"
      ]
     },
     "metadata": {},
     "output_type": "display_data"
    }
   ],
   "source": [
    "plt.plot(epochs, acc, 'bo',label='Training acc')\n",
    "plt.plot(epochs, val_acc, 'g', label='Validation acc')\n",
    "plt.title('Training and validation accuracy')\n",
    "plt.legend()\n",
    "plt.figure()"
   ]
  },
  {
   "cell_type": "code",
   "execution_count": 46,
   "id": "2f5d9de9",
   "metadata": {},
   "outputs": [
    {
     "data": {
      "image/png": "[encoded data removed]",
      "text/plain": [
       "<Figure size 432x288 with 1 Axes>"
      ]
     },
     "metadata": {
      "needs_background": "light"
     },
     "output_type": "display_data"
    }
   ],
   "source": [
    "plt.plot(epochs, loss, 'bo', label='Training loss')\n",
    "plt.plot(epochs, val_loss, 'g', label='Validation loss')\n",
    "plt.title('Training and validation loss')\n",
    "plt.legend()\n",
    "plt.show()"
   ]
  },
  {
   "cell_type": "markdown",
   "id": "2089ebe6",
   "metadata": {},
   "source": [
    "# Trial on a pretrained model(VGG16- Visual Geometric Group 16)"
   ]
  },
  {
   "cell_type": "code",
   "execution_count": 47,
   "id": "679df600",
   "metadata": {},
   "outputs": [],
   "source": [
    "# Model 3\n",
    "#_Pretrained model called VGG16"
   ]
  },
  {
   "cell_type": "code",
   "execution_count": 48,
   "id": "cf09873f",
   "metadata": {},
   "outputs": [],
   "source": [
    "#Instantiating of the VGG16 convolutional base\n",
    "# ImageNet dataset (1.4 million labeled images and 1,000 different classes\n",
    "from keras.applications import VGG16"
   ]
  },
  {
   "cell_type": "code",
   "execution_count": 49,
   "id": "8c5ac6aa",
   "metadata": {},
   "outputs": [],
   "source": [
    "conv_base = VGG16(weights='imagenet', include_top=False,\n",
    "                  input_shape=(150, 150, 3))"
   ]
  },
  {
   "cell_type": "code",
   "execution_count": 50,
   "id": "f3a5f312",
   "metadata": {},
   "outputs": [
    {
     "name": "stdout",
     "output_type": "stream",
     "text": [
      "Model: \"vgg16\"\n",
      "_________________________________________________________________\n",
      " Layer (type)                Output Shape              Param #   \n",
      "=================================================================\n",
      " input_1 (InputLayer)        [(None, 150, 150, 3)]     0         \n",
      "                                                                 \n",
      " block1_conv1 (Conv2D)       (None, 150, 150, 64)      1792      \n",
      "                                                                 \n",
      " block1_conv2 (Conv2D)       (None, 150, 150, 64)      36928     \n",
      "                                                                 \n",
      " block1_pool (MaxPooling2D)  (None, 75, 75, 64)        0         \n",
      "                                                                 \n",
      " block2_conv1 (Conv2D)       (None, 75, 75, 128)       73856     \n",
      "                                                                 \n",
      " block2_conv2 (Conv2D)       (None, 75, 75, 128)       147584    \n",
      "                                                                 \n",
      " block2_pool (MaxPooling2D)  (None, 37, 37, 128)       0         \n",
      "                                                                 \n",
      " block3_conv1 (Conv2D)       (None, 37, 37, 256)       295168    \n",
      "                                                                 \n",
      " block3_conv2 (Conv2D)       (None, 37, 37, 256)       590080    \n",
      "                                                                 \n",
      " block3_conv3 (Conv2D)       (None, 37, 37, 256)       590080    \n",
      "                                                                 \n",
      " block3_pool (MaxPooling2D)  (None, 18, 18, 256)       0         \n",
      "                                                                 \n",
      " block4_conv1 (Conv2D)       (None, 18, 18, 512)       1180160   \n",
      "                                                                 \n",
      " block4_conv2 (Conv2D)       (None, 18, 18, 512)       2359808   \n",
      "                                                                 \n",
      " block4_conv3 (Conv2D)       (None, 18, 18, 512)       2359808   \n",
      "                                                                 \n",
      " block4_pool (MaxPooling2D)  (None, 9, 9, 512)         0         \n",
      "                                                                 \n",
      " block5_conv1 (Conv2D)       (None, 9, 9, 512)         2359808   \n",
      "                                                                 \n",
      " block5_conv2 (Conv2D)       (None, 9, 9, 512)         2359808   \n",
      "                                                                 \n",
      " block5_conv3 (Conv2D)       (None, 9, 9, 512)         2359808   \n",
      "                                                                 \n",
      " block5_pool (MaxPooling2D)  (None, 4, 4, 512)         0         \n",
      "                                                                 \n",
      "=================================================================\n",
      "Total params: 14,714,688\n",
      "Trainable params: 14,714,688\n",
      "Non-trainable params: 0\n",
      "_________________________________________________________________\n"
     ]
    }
   ],
   "source": [
    "conv_base.summary()"
   ]
  },
  {
   "cell_type": "code",
   "execution_count": 51,
   "id": "14e0f232",
   "metadata": {},
   "outputs": [],
   "source": [
    "#Extracting features and using the pretrained convolutional base\n",
    "\n",
    "import numpy as np\n",
    "from keras.preprocessing.image import ImageDataGenerator"
   ]
  },
  {
   "cell_type": "code",
   "execution_count": 52,
   "id": "cf12d68e",
   "metadata": {},
   "outputs": [],
   "source": [
    "# Specifying the location of the folder where images are present\n",
    "TrainingImagePath=\"C:\\\\Users\\HP\\Desktop\\Tech. sminars\\TS2--Comp.Vision\\Train_data\"\n",
    "validationImagePath=\"C:\\\\Users\\HP\\Desktop\\Tech. sminars\\TS2--Comp.Vision\\Test_data\""
   ]
  },
  {
   "cell_type": "code",
   "execution_count": 53,
   "id": "a63606f8",
   "metadata": {},
   "outputs": [],
   "source": [
    "datagen = ImageDataGenerator(rescale=1./255)"
   ]
  },
  {
   "cell_type": "code",
   "execution_count": 54,
   "id": "63bcfe10",
   "metadata": {},
   "outputs": [],
   "source": [
    "batch_size = 20"
   ]
  },
  {
   "cell_type": "code",
   "execution_count": 55,
   "id": "ff89c42c",
   "metadata": {},
   "outputs": [],
   "source": [
    "def extract_features(directory, sample_count):\n",
    "    features = np.zeros(shape=(sample_count, 4, 4, 512))\n",
    "    labels = np.zeros(shape=(sample_count))\n",
    "    generator = datagen.flow_from_directory(directory, target_size=(150, 150),\n",
    "                                            batch_size=batch_size,\n",
    "                                            class_mode='binary')\n",
    "    i=0\n",
    "    for inputs_batch, labels_batch in generator:\n",
    "        features_batch = conv_base.predict(inputs_batch)\n",
    "        features[i * batch_size : (i + 1) * batch_size] = features_batch\n",
    "        labels[i * batch_size : (i + 1) * batch_size] = labels_batch\n",
    "        i += 1\n",
    "        if i * batch_size >= sample_count:\n",
    "            break\n",
    "    return features, labels"
   ]
  },
  {
   "cell_type": "code",
   "execution_count": 56,
   "id": "a5b1d4be",
   "metadata": {},
   "outputs": [],
   "source": [
    "#Note that because generators yield data indefinitely in a loop, you must break after every image has been seen once."
   ]
  },
  {
   "cell_type": "code",
   "execution_count": 59,
   "id": "209bfe78",
   "metadata": {},
   "outputs": [
    {
     "name": "stdout",
     "output_type": "stream",
     "text": [
      "Found 75 images belonging to 5 classes.\n",
      "1/1 [==============================] - 14s 14s/step\n",
      "1/1 [==============================] - 14s 14s/step\n",
      "1/1 [==============================] - 14s 14s/step\n",
      "1/1 [==============================] - 11s 11s/step\n"
     ]
    }
   ],
   "source": [
    "#Following three codes takes few minutes each as it is converting images into\n",
    "#arrays\n",
    "train_features, train_labels = extract_features(TrainingImagePath, 75)"
   ]
  },
  {
   "cell_type": "code",
   "execution_count": 60,
   "id": "e45752af",
   "metadata": {},
   "outputs": [
    {
     "name": "stdout",
     "output_type": "stream",
     "text": [
      "Found 25 images belonging to 5 classes.\n",
      "1/1 [==============================] - 14s 14s/step\n",
      "1/1 [==============================] - 3s 3s/step\n"
     ]
    }
   ],
   "source": [
    "validation_features, validation_labels = extract_features(validationImagePath, 25)"
   ]
  },
  {
   "cell_type": "code",
   "execution_count": 61,
   "id": "1d0666e4",
   "metadata": {},
   "outputs": [
    {
     "data": {
      "text/plain": [
       "(75, 4, 4, 512)"
      ]
     },
     "execution_count": 61,
     "metadata": {},
     "output_type": "execute_result"
    }
   ],
   "source": [
    "train_features.shape"
   ]
  },
  {
   "cell_type": "code",
   "execution_count": 63,
   "id": "3bd75c09",
   "metadata": {},
   "outputs": [],
   "source": [
    "train_features = np.reshape(train_features, (75, 4*4* 512))"
   ]
  },
  {
   "cell_type": "code",
   "execution_count": 64,
   "id": "b0cd5a42",
   "metadata": {},
   "outputs": [
    {
     "data": {
      "text/plain": [
       "(75, 8192)"
      ]
     },
     "execution_count": 64,
     "metadata": {},
     "output_type": "execute_result"
    }
   ],
   "source": [
    "train_features.shape "
   ]
  },
  {
   "cell_type": "code",
   "execution_count": 65,
   "id": "ccec6ba5",
   "metadata": {},
   "outputs": [
    {
     "data": {
      "text/plain": [
       "(25, 4, 4, 512)"
      ]
     },
     "execution_count": 65,
     "metadata": {},
     "output_type": "execute_result"
    }
   ],
   "source": [
    "validation_features.shape"
   ]
  },
  {
   "cell_type": "code",
   "execution_count": 66,
   "id": "b9d8c5d5",
   "metadata": {},
   "outputs": [],
   "source": [
    "validation_features = np.reshape(validation_features, (25, 4*4* 512))"
   ]
  },
  {
   "cell_type": "code",
   "execution_count": 67,
   "id": "eecf6a1a",
   "metadata": {},
   "outputs": [
    {
     "data": {
      "text/plain": [
       "(25, 8192)"
      ]
     },
     "execution_count": 67,
     "metadata": {},
     "output_type": "execute_result"
    }
   ],
   "source": [
    "validation_features.shape "
   ]
  },
  {
   "cell_type": "code",
   "execution_count": 68,
   "id": "e84f30ee",
   "metadata": {},
   "outputs": [
    {
     "data": {
      "text/plain": [
       "(75,)"
      ]
     },
     "execution_count": 68,
     "metadata": {},
     "output_type": "execute_result"
    }
   ],
   "source": [
    "#Preparing the response data\n",
    "train_labels.shape"
   ]
  },
  {
   "cell_type": "code",
   "execution_count": 69,
   "id": "52867449",
   "metadata": {},
   "outputs": [
    {
     "data": {
      "text/plain": [
       "(75, 5)"
      ]
     },
     "execution_count": 69,
     "metadata": {},
     "output_type": "execute_result"
    }
   ],
   "source": [
    "from keras.utils import to_categorical\n",
    "train_labels_cat = to_categorical(train_labels)\n",
    "train_labels_cat.shape"
   ]
  },
  {
   "cell_type": "code",
   "execution_count": 70,
   "id": "3593058f",
   "metadata": {},
   "outputs": [
    {
     "data": {
      "text/plain": [
       "(25,)"
      ]
     },
     "execution_count": 70,
     "metadata": {},
     "output_type": "execute_result"
    }
   ],
   "source": [
    "validation_labels.shape"
   ]
  },
  {
   "cell_type": "code",
   "execution_count": 71,
   "id": "a7d63be4",
   "metadata": {},
   "outputs": [
    {
     "data": {
      "text/plain": [
       "(25, 5)"
      ]
     },
     "execution_count": 71,
     "metadata": {},
     "output_type": "execute_result"
    }
   ],
   "source": [
    "valid_labels_cat = to_categorical(validation_labels)\n",
    "valid_labels_cat.shape"
   ]
  },
  {
   "cell_type": "code",
   "execution_count": 72,
   "id": "91ebe4c9",
   "metadata": {},
   "outputs": [],
   "source": [
    "#Defining and training the densely connected classifier\n",
    "\n",
    "from keras import models\n",
    "from keras import layers\n",
    "from keras import optimizers\n",
    "model = models.Sequential()\n",
    "model.add(layers.Dense(256, activation='relu', input_dim=4 * 4 * 512))\n",
    "model.add(layers.Dropout(0.5))\n",
    "model.add(layers.Dense(5, activation='softmax'))\n",
    "model.compile(optimizer='adam',loss='categorical_crossentropy',metrics=['acc'])"
   ]
  },
  {
   "cell_type": "code",
   "execution_count": 73,
   "id": "e42f02b9",
   "metadata": {},
   "outputs": [
    {
     "name": "stdout",
     "output_type": "stream",
     "text": [
      "Epoch 1/30\n",
      "4/4 [==============================] - 3s 223ms/step - loss: 2.2461 - acc: 0.2533 - val_loss: 1.7578 - val_acc: 0.3200\n",
      "Epoch 2/30\n",
      "4/4 [==============================] - 0s 73ms/step - loss: 1.2468 - acc: 0.5200 - val_loss: 1.4944 - val_acc: 0.3600\n",
      "Epoch 3/30\n",
      "4/4 [==============================] - 0s 71ms/step - loss: 0.6665 - acc: 0.7733 - val_loss: 1.2522 - val_acc: 0.6400\n",
      "Epoch 4/30\n",
      "4/4 [==============================] - 0s 68ms/step - loss: 0.3455 - acc: 0.8533 - val_loss: 1.2809 - val_acc: 0.5600\n",
      "Epoch 5/30\n",
      "4/4 [==============================] - 0s 67ms/step - loss: 0.2506 - acc: 0.9467 - val_loss: 1.0735 - val_acc: 0.6800\n",
      "Epoch 6/30\n",
      "4/4 [==============================] - 0s 92ms/step - loss: 0.1916 - acc: 0.9600 - val_loss: 1.3892 - val_acc: 0.4000\n",
      "Epoch 7/30\n",
      "4/4 [==============================] - 0s 81ms/step - loss: 0.1401 - acc: 0.9333 - val_loss: 1.0510 - val_acc: 0.6000\n",
      "Epoch 8/30\n",
      "4/4 [==============================] - 0s 83ms/step - loss: 0.0813 - acc: 0.9600 - val_loss: 1.0803 - val_acc: 0.6400\n",
      "Epoch 9/30\n",
      "4/4 [==============================] - 0s 80ms/step - loss: 0.0701 - acc: 0.9867 - val_loss: 1.0447 - val_acc: 0.6000\n",
      "Epoch 10/30\n",
      "4/4 [==============================] - 0s 109ms/step - loss: 0.0597 - acc: 0.9867 - val_loss: 1.0939 - val_acc: 0.6000\n",
      "Epoch 11/30\n",
      "4/4 [==============================] - 0s 85ms/step - loss: 0.0713 - acc: 0.9867 - val_loss: 1.1185 - val_acc: 0.6800\n",
      "Epoch 12/30\n",
      "4/4 [==============================] - 0s 85ms/step - loss: 0.0369 - acc: 1.0000 - val_loss: 1.2464 - val_acc: 0.5600\n",
      "Epoch 13/30\n",
      "4/4 [==============================] - 0s 95ms/step - loss: 0.0279 - acc: 1.0000 - val_loss: 1.3103 - val_acc: 0.4400\n",
      "Epoch 14/30\n",
      "4/4 [==============================] - 0s 99ms/step - loss: 0.0199 - acc: 1.0000 - val_loss: 1.2351 - val_acc: 0.4800\n",
      "Epoch 15/30\n",
      "4/4 [==============================] - 0s 74ms/step - loss: 0.0192 - acc: 1.0000 - val_loss: 1.1976 - val_acc: 0.5200\n",
      "Epoch 16/30\n",
      "4/4 [==============================] - 0s 78ms/step - loss: 0.0136 - acc: 1.0000 - val_loss: 1.2082 - val_acc: 0.4800\n",
      "Epoch 17/30\n",
      "4/4 [==============================] - 0s 74ms/step - loss: 0.0131 - acc: 1.0000 - val_loss: 1.1614 - val_acc: 0.5600\n",
      "Epoch 18/30\n",
      "4/4 [==============================] - 0s 90ms/step - loss: 0.0078 - acc: 1.0000 - val_loss: 1.1332 - val_acc: 0.5600\n",
      "Epoch 19/30\n",
      "4/4 [==============================] - 0s 96ms/step - loss: 0.0045 - acc: 1.0000 - val_loss: 1.1157 - val_acc: 0.6400\n",
      "Epoch 20/30\n",
      "4/4 [==============================] - 0s 104ms/step - loss: 0.0077 - acc: 1.0000 - val_loss: 1.1001 - val_acc: 0.6400\n",
      "Epoch 21/30\n",
      "4/4 [==============================] - 0s 97ms/step - loss: 0.0042 - acc: 1.0000 - val_loss: 1.0841 - val_acc: 0.6400\n",
      "Epoch 22/30\n",
      "4/4 [==============================] - 0s 93ms/step - loss: 0.0065 - acc: 1.0000 - val_loss: 1.0783 - val_acc: 0.6400\n",
      "Epoch 23/30\n",
      "4/4 [==============================] - 0s 104ms/step - loss: 0.0063 - acc: 1.0000 - val_loss: 1.0796 - val_acc: 0.6400\n",
      "Epoch 24/30\n",
      "4/4 [==============================] - 0s 79ms/step - loss: 0.0063 - acc: 1.0000 - val_loss: 1.0765 - val_acc: 0.6400\n",
      "Epoch 25/30\n",
      "4/4 [==============================] - 0s 77ms/step - loss: 0.0030 - acc: 1.0000 - val_loss: 1.0759 - val_acc: 0.6400\n",
      "Epoch 26/30\n",
      "4/4 [==============================] - 0s 65ms/step - loss: 0.0028 - acc: 1.0000 - val_loss: 1.0755 - val_acc: 0.6400\n",
      "Epoch 27/30\n",
      "4/4 [==============================] - 0s 87ms/step - loss: 0.0050 - acc: 1.0000 - val_loss: 1.0820 - val_acc: 0.6400\n",
      "Epoch 28/30\n",
      "4/4 [==============================] - 0s 90ms/step - loss: 0.0029 - acc: 1.0000 - val_loss: 1.0959 - val_acc: 0.6400\n",
      "Epoch 29/30\n",
      "4/4 [==============================] - 0s 90ms/step - loss: 0.0039 - acc: 1.0000 - val_loss: 1.1085 - val_acc: 0.6400\n",
      "Epoch 30/30\n",
      "4/4 [==============================] - 0s 100ms/step - loss: 0.0040 - acc: 1.0000 - val_loss: 1.1201 - val_acc: 0.6400\n"
     ]
    }
   ],
   "source": [
    "history = model.fit(train_features, train_labels_cat,epochs=30,batch_size=20,\n",
    "                    validation_data=(validation_features, valid_labels_cat))"
   ]
  },
  {
   "cell_type": "code",
   "execution_count": 74,
   "id": "5417ac4a",
   "metadata": {},
   "outputs": [],
   "source": [
    "#Plotting the results\n",
    "import matplotlib.pyplot as plt\n",
    "acc = history.history['acc']\n",
    "val_acc = history.history['val_acc']\n",
    "loss = history.history['loss']\n",
    "val_loss = history.history['val_loss']"
   ]
  },
  {
   "cell_type": "code",
   "execution_count": 75,
   "id": "80ba1de9",
   "metadata": {},
   "outputs": [],
   "source": [
    "epochs = range(1, len(acc) + 1)"
   ]
  },
  {
   "cell_type": "code",
   "execution_count": 76,
   "id": "79b87d6f",
   "metadata": {},
   "outputs": [
    {
     "data": {
      "text/plain": [
       "<Figure size 432x288 with 0 Axes>"
      ]
     },
     "execution_count": 76,
     "metadata": {},
     "output_type": "execute_result"
    },
    {
     "data": {
      "image/png": "[encoded data removed]",
      "text/plain": [
       "<Figure size 432x288 with 1 Axes>"
      ]
     },
     "metadata": {
      "needs_background": "light"
     },
     "output_type": "display_data"
    },
    {
     "data": {
      "text/plain": [
       "<Figure size 432x288 with 0 Axes>"
      ]
     },
     "metadata": {},
     "output_type": "display_data"
    }
   ],
   "source": [
    "plt.plot(epochs, acc, 'bo', label='Training acc')\n",
    "plt.plot(epochs, val_acc, 'r', label='Validation acc')\n",
    "plt.title('Training and validation accuracy')\n",
    "plt.legend()\n",
    "plt.figure()"
   ]
  },
  {
   "cell_type": "code",
   "execution_count": 77,
   "id": "ec80ccb8",
   "metadata": {},
   "outputs": [
    {
     "data": {
      "image/png": "[encoded data removed]",
      "text/plain": [
       "<Figure size 432x288 with 1 Axes>"
      ]
     },
     "metadata": {
      "needs_background": "light"
     },
     "output_type": "display_data"
    }
   ],
   "source": [
    "plt.plot(epochs, loss, 'bo', label='Training loss')\n",
    "plt.plot(epochs, val_loss, 'r', label='Validation loss')\n",
    "plt.title('Training and validation loss')\n",
    "plt.legend()\n",
    "plt.show()"
   ]
  },
  {
   "cell_type": "code",
   "execution_count": null,
   "id": "6b299e6a",
   "metadata": {},
   "outputs": [],
   "source": []
  }
 ],
 "metadata": {
  "kernelspec": {
   "display_name": "Python 3 (ipykernel)",
   "language": "python",
   "name": "python3"
  },
  "language_info": {
   "codemirror_mode": {
    "name": "ipython",
    "version": 3
   },
   "file_extension": ".py",
   "mimetype": "text/x-python",
   "name": "python",
   "nbconvert_exporter": "python",
   "pygments_lexer": "ipython3",
   "version": "3.9.12"
  }
 },
 "nbformat": 4,
 "nbformat_minor": 5
}
